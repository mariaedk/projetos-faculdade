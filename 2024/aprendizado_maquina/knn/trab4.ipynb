{
  "nbformat": 4,
  "nbformat_minor": 0,
  "metadata": {
    "colab": {
      "provenance": []
    },
    "kernelspec": {
      "name": "python3",
      "display_name": "Python 3"
    },
    "language_info": {
      "name": "python"
    }
  },
  "cells": [
    {
      "cell_type": "code",
      "execution_count": 80,
      "metadata": {
        "id": "fndLUmCQge7J"
      },
      "outputs": [],
      "source": [
        "'''\n",
        "Trabalho 4: Classificação - k-Nearest Neighbour (kNN)\n",
        "\n",
        "Neste trabalho estamos criando um classificador k-Nearest Neighbour, um dos classificadores mais simples. A tarefa a ser realizada é a seguinte:\n",
        "\n",
        "Dado um conjunto de dados, você quer construir um programa que prevê novos exemplos para uma classe.\n",
        "Por exemplo, dado um conjunto de dígitos escritos à mão, você quer construir um programa que reconhece automaticamente o CEP das cartas.\n",
        "\n",
        "Implemente um classificador 1-NN usando a distância Euclidiana.\n",
        "\n",
        "Note que todos os conjuntos de dados usam vetores de linha. A função deve ser algo parecido com:\n",
        "\n",
        "def meuKnn(dadosTrain, rotuloTrain, dadosTeste, k)\n",
        "  %Para cada exemplo de teste\n",
        "  % Calcule a distância entre o exemplo de teste e os dados de treinamento\n",
        "  % Ordene as distâncias. A ordem iX de cada elemento ordenado é importante:\n",
        "  % [distOrdenada ind] = sort(...);\n",
        "  % O rótulo previsto corresponde ao rótulo do exemplo mais próximo (iX(1))\n",
        "'''\n",
        "\n",
        "import numpy as np\n",
        "import pandas as pd\n",
        "import scipy.io as scipy\n",
        "from scipy.stats import mode\n",
        "import matplotlib.pyplot as plt\n",
        "from sklearn.preprocessing import LabelEncoder\n",
        "import random\n",
        "\n",
        "# primeiro cálculo (distância euclidiana)\n",
        "def calcular_distancias(ponto_exemplo, dadosTrain):\n",
        "    distancias = []\n",
        "    # calcular todas as distâncias entre o exemplo e os dados de treinamento\n",
        "    for ponto_treino in dadosTrain:\n",
        "        diff = ponto_treino - ponto_exemplo\n",
        "        squared_diff = diff**2\n",
        "        sum_squared_diff = np.sum(squared_diff)\n",
        "        distancia = np.sqrt(sum_squared_diff)\n",
        "        distancias.append(distancia)\n",
        "    return np.array(distancias)\n",
        "\n",
        "# dadosTrain -> matriz de dados de treinamento\n",
        "# dadosTeste -> matriz de dados de teste\n",
        "# rotuloTrain -> vetor de rótulos de treinamento\n",
        "def meuKnn(dadosTrain, rotuloTrain, dadosTeste, k):\n",
        "    num_testes = dadosTeste.shape[0]\n",
        "\n",
        "    rotuloPrevisto = np.zeros(num_testes, dtype=rotuloTrain.dtype)\n",
        "\n",
        "    # para cada exemplo de teste\n",
        "    for i in range(num_testes):\n",
        "        # calcular a distância do novo exemplo a todos os exemplos de treino\n",
        "        distancias = calcular_distancias(dadosTeste[i, :], dadosTrain)\n",
        "\n",
        "        # ordene as distâncias e obtenha os índices ordenados\n",
        "        distOrdenada = np.sort(distancias)\n",
        "        # argsort retorna os indices que ordenariam o array de distancias\n",
        "        indices_ordenados = np.argsort(distancias)\n",
        "\n",
        "        # seleciona os k vizinhos mais próximos\n",
        "        k_indices = indices_ordenados[:k]\n",
        "        # dentre os rótulos pegue o rótulo de cada k vizinho\n",
        "        k_rotulos = rotuloTrain[k_indices]\n",
        "\n",
        "        # calcula a moda dos rótulos presentes no array k_rotulos e pega o primeir valor\n",
        "        rotuloPrevisto[i] = mode(k_rotulos)[0]\n",
        "\n",
        "    return rotuloPrevisto\n",
        "\n"
      ]
    },
    {
      "cell_type": "code",
      "source": [
        "''' Para testar se você implementou a função corretamente, baixe o arquivo grupoDados1.mat - cada arquivo .mat contém 4 variáveis que são: grupoTest,\n",
        "grupoTrain, testRots, trainRots. Para baixar os arquivos .mat no Python você pode fazer o seguinte:\n",
        "'''\n",
        "\n",
        "mat = scipy.loadmat('grupoDados1.mat')\n",
        "\n",
        "# contém os dados para treinar o modelo\n",
        "grupoTrain = mat['grupoTrain']\n",
        "# contém os rótulos -> classes/categorias que cada amostra pertence (exemplo: se classificarmos imagens de cães e gatos, os rótulos podem ser \"cão\" \"gato\")\n",
        "trainRots = mat['trainRots'].flatten()\n",
        "# dados de teste -> será usado para avaliar capacidade do modelo\n",
        "grupoTest = mat['grupoTest']\n",
        "# rótulos dos dados de teste\n",
        "testRots = mat['testRots'].flatten()"
      ],
      "metadata": {
        "id": "Bu3nyHpdAl9i"
      },
      "execution_count": 81,
      "outputs": []
    },
    {
      "cell_type": "code",
      "source": [
        "def calcular_acuracia(rotuloPrevisto, testRots):\n",
        "    # vai comparar os rótulos previstos do modelo com os rótulos reais das amostras de teste\n",
        "    # comparação resulta em uma matriz de booleanos\n",
        "    matriz_booleanos = rotuloPrevisto == testRots\n",
        "    # soma todos os \"trues\" na matriz de booleanos (cada true é 1), ou seja, quantas previsões ele fez corretas\n",
        "    resultados_verdadeiros = np.sum(matriz_booleanos)\n",
        "    # quantidade de amostras de teste, usar para verificar o desempenho do modelo em relação a todo conjunto de teste\n",
        "    totalNum = len(testRots)\n",
        "    acuracia = resultados_verdadeiros / totalNum\n",
        "    return acuracia"
      ],
      "metadata": {
        "id": "1hRRR-lsV0sa"
      },
      "execution_count": 82,
      "outputs": []
    },
    {
      "cell_type": "code",
      "source": [
        "'''\n",
        "Então, verifique quantas classes foram previstas corretamente, isto é chamado de acurácia (accuracy):\n",
        "'''\n",
        "rotuloPrevisto_k1 = meuKnn(grupoTrain, trainRots, grupoTest, 1)\n",
        "acuracia_k1 = calcular_acuracia(rotuloPrevisto_k1, testRots)\n",
        "print(f'acurácia k=1: {acuracia_k1 * 100:.2f}%')\n"
      ],
      "metadata": {
        "colab": {
          "base_uri": "https://localhost:8080/"
        },
        "id": "ee3UqjQaC4J-",
        "outputId": "ea3cac85-c35b-442a-8814-54c9c41ec642"
      },
      "execution_count": 83,
      "outputs": [
        {
          "output_type": "stream",
          "name": "stdout",
          "text": [
            "acurácia k=1: 96.00%\n"
          ]
        }
      ]
    },
    {
      "cell_type": "code",
      "source": [
        "'''\n",
        "A acurácia deve ser de 96%. Agora, vamos estender a função a um classificador k-NN:\n",
        "\n",
        "def meuKnn(dadosTrain, rotuloTrain, dadosTeste, k)\n",
        "  %Para cada exemplo de teste\n",
        "  % Calcule a distância entre o exemplo de teste e os dados de treinamento\n",
        "  % Ordene as distâncias. A ordem iX de cada elemento ordenado é importante:\n",
        "  % [distOrdenada ind] = sort(...);\n",
        "  % Obter os rótulos correspondentes aos exemplos mais próximos k\n",
        "  % Agora, a moda dos rótulos correspondentes são os rótulos previstos (você pode usar a função mode).\n",
        "\n",
        "\n",
        "Teste novamente no conjunto de dados 1 (grupoDados1.mat) e utilize k = 10 para uma acurácia igual a 94%.\n",
        "'''\n",
        "rotuloPrevisto_k10 = meuKnn(grupoTrain, trainRots, grupoTest, 10)\n",
        "acuracia_k10 = calcular_acuracia(rotuloPrevisto_k10, testRots)\n",
        "print(f'acurácia k=10: {acuracia_k10 * 100:.2f}%')"
      ],
      "metadata": {
        "colab": {
          "base_uri": "https://localhost:8080/"
        },
        "id": "LCZgl7kAVUB3",
        "outputId": "4ecddcdd-d175-4f80-c4e2-6d1a70af3cb1"
      },
      "execution_count": 84,
      "outputs": [
        {
          "output_type": "stream",
          "name": "stdout",
          "text": [
            "acurácia k=10: 94.00%\n"
          ]
        }
      ]
    },
    {
      "cell_type": "code",
      "source": [
        "'''\n",
        "É sempre bom visualizar graficamente seus dados. Para fazer isso, crie a seguinte função:\n",
        "'''\n",
        "\n",
        "def getDadosRotulo(dados, rotulos, rotulo, indice):\n",
        "  ret = []\n",
        "  for idx in range(0, len(dados)):\n",
        "      if (rotulos[idx] == rotulo):\n",
        "          ret.append(dados[idx][indice])\n",
        "  return ret\n",
        "\n",
        "''' Nesta função, d1 e d2 denotam as dimensões que você deseja visualizar, isto é 1 e 2 respectivamente. '''\n",
        "def visualizaPontos(dados, rotulos, d1, d2):\n",
        "  fig, ax = plt.subplots()\n",
        "  ax.scatter(getDadosRotulo(dados, rotulos, 1, d1), getDadosRotulo(dados, rotulos, 1, d2), c='red' , marker='^')\n",
        "  ax.scatter(getDadosRotulo(dados, rotulos, 2, d1), getDadosRotulo(dados, rotulos, 2, d2), c='blue' , marker='+')\n",
        "  ax.scatter(getDadosRotulo(dados, rotulos, 3, d1), getDadosRotulo(dados, rotulos, 3, d2), c='green', marker='.')\n",
        "\n",
        "\n",
        "visualizaPontos(grupoTest, rotuloPrevisto_k10, 0, 1)\n",
        "plt.title('Classificação com k=10')\n",
        "visualizaPontos(grupoTest, rotuloPrevisto_k1, 0, 1)\n",
        "plt.title('Classificação com k=1')\n",
        "plt.show()"
      ],
      "metadata": {
        "colab": {
          "base_uri": "https://localhost:8080/",
          "height": 907
        },
        "id": "qVSoK-9LWN2s",
        "outputId": "3c002707-a1b9-45f8-e0b5-e78896372db3"
      },
      "execution_count": 85,
      "outputs": [
        {
          "output_type": "display_data",
          "data": {
            "text/plain": [
              "<Figure size 640x480 with 1 Axes>"
            ],
            "image/png": "[encoded data removed]"
          },
          "metadata": {}
        },
        {
          "output_type": "display_data",
          "data": {
            "text/plain": [
              "<Figure size 640x480 with 1 Axes>"
            ],
            "image/png": "[encoded data removed]"
          },
          "metadata": {}
        }
      ]
    },
    {
      "cell_type": "code",
      "source": [
        "'''\n",
        "O grupoDados1 é um conjunto de dados de flores. Para mais informações consulte: http://archive.ics.uci.edu/ml/datasets/Iris .\n",
        "\n",
        "Q1.1. Qual é a acurácia máxima que você consegue da classificação?\n",
        "Q1.2. É necessário ter todas as características (atributos) para obter a acurácia máxima para esta classificação?\n",
        "'''\n",
        "\n",
        "def dividir_conjuntos(X, y, proporcao_teste=0.1):\n",
        "    num_exemplos = len(X)\n",
        "    num_teste = int(proporcao_teste * num_exemplos)\n",
        "\n",
        "    indices = list(range(num_exemplos))\n",
        "    random.shuffle(indices)\n",
        "\n",
        "    indices_teste, indices_treinamento = indices[:num_teste], indices[num_teste:]\n",
        "\n",
        "    X_treinamento, X_teste = X[indices_treinamento], X[indices_teste]\n",
        "    y_treinamento, y_teste = y[indices_treinamento], y[indices_teste]\n",
        "\n",
        "    return X_treinamento, X_teste, y_treinamento, y_teste\n",
        "\n",
        "iris_data = pd.read_csv('iris.data', header=None)\n",
        "\n",
        "# todas as colunas exceto a última\n",
        "X = iris_data.iloc[:, :-1].values\n",
        "y = iris_data.iloc[:, -1].values # última coluna (rótulos)\n",
        "\n",
        "label_encoder = LabelEncoder()\n",
        "y = label_encoder.fit_transform(y)\n",
        "\n",
        "# dividir os dados em conjuntos de treinamento e teste\n",
        "X_treinamento, X_teste, y_treinamento, y_teste = dividir_conjuntos(X, y)\n",
        "\n",
        "# Usar k=3\n",
        "k = 3\n",
        "rotuloPrevisto_k3 = meuKnn(X_treinamento, y_treinamento, X_teste, k)\n",
        "acuracia_k3 = calcular_acuracia(y_teste, rotuloPrevisto_k3)\n",
        "\n",
        "print(f'Acurácia com k={k}: {acuracia_k1 * 100:.2f}%')\n",
        "\n",
        "'''\n",
        "Q1.1.\n",
        "a acurácia máxima teórica que poderia alcançar com os dados do conjunto Iris é de 100%.\n",
        "Na prática, a acurácia depende do valor de k e da divisão aleatória dos dados.\n",
        "por exemplo, com k=1, a acurácia pode variar devido à sensibilidade aos vizinhos mais próximos.\n",
        "\n",
        "Q1.2. não necessariamente, pois pode haver redundância; no k-NN, algumas características podem fornecer informações duplicadas.\n",
        "Por exemplo, duas características altamente correlacionadas podem não adicionar novas informações significativas. Remover uma delas pode simplificar sem reduzir a acurácia.\n",
        "Também há a rrelevância já que algumas características podem não ser úteis para a classificação e podem até introduzir ruído, reduzindo a precisão.\n",
        "'''"
      ],
      "metadata": {
        "id": "3nDfOJwRZQ5n",
        "colab": {
          "base_uri": "https://localhost:8080/",
          "height": 144
        },
        "outputId": "878c4bb8-0a73-4fc6-c5df-3cc3e489e4ab"
      },
      "execution_count": 87,
      "outputs": [
        {
          "output_type": "stream",
          "name": "stdout",
          "text": [
            "Acurácia com k=3: 96.00%\n"
          ]
        },
        {
          "output_type": "execute_result",
          "data": {
            "text/plain": [
              "'\\nQ1.1. \\na acurácia máxima teórica que poderia alcançar com os dados do conjunto Iris é de 100%. \\nNa prática, a acurácia depende do valor de k e da divisão aleatória dos dados.\\npor exemplo, com k=1, a acurácia pode variar devido à sensibilidade aos vizinhos mais próximos.\\n\\nQ1.2. não necessariamente, pois pode haver redundância; no k-NN, algumas características podem fornecer informações duplicadas. \\nPor exemplo, duas características altamente correlacionadas podem não adicionar novas informações significativas. Remover uma delas pode simplificar sem reduzir a acurácia.\\nTambém há a rrelevância já que algumas características podem não ser úteis para a classificação e podem até introduzir ruído, reduzindo a precisão.\\n'"
            ],
            "application/vnd.google.colaboratory.intrinsic+json": {
              "type": "string"
            }
          },
          "metadata": {},
          "execution_count": 87
        }
      ]
    }
  ]
}