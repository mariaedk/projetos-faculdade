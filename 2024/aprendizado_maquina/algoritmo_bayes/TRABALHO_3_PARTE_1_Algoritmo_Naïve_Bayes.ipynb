{
  "nbformat": 4,
  "nbformat_minor": 0,
  "metadata": {
    "colab": {
      "name": "TRABALHO 3: PARTE 1 - Algoritmo Naïve Bayes.ipynb",
      "provenance": [],
      "collapsed_sections": []
    },
    "kernelspec": {
      "name": "python3",
      "display_name": "Python 3"
    },
    "language_info": {
      "name": "python"
    }
  },
  "cells": [
    {
      "cell_type": "markdown",
      "source": [
        "# PARTE 1: Algoritmo Naïve Bayes"
      ],
      "metadata": {
        "id": "bsxKZMibIn9I"
      }
    },
    {
      "cell_type": "markdown",
      "source": [
        "Nesta primeira parte do Trabalho você irá aplicar o algoritmo de Naïve Bayes na base de dados de risco de crédito discutida em aula. Para isso você deve primeiramente importar as bibliotecas necessárias."
      ],
      "metadata": {
        "id": "u0xCSPlWjxXp"
      }
    },
    {
      "cell_type": "code",
      "execution_count": null,
      "metadata": {
        "id": "1Eg_7LI_Ih0X"
      },
      "outputs": [],
      "source": [
        "import pandas as pd\n",
        "import numpy as np\n",
        "import seaborn as sns\n",
        "import matplotlib.pyplot as plt\n",
        "import plotly.express as px"
      ]
    },
    {
      "cell_type": "code",
      "source": [
        "# importe a base de dados de risco de crédito e nomeie com: dataset_risco_credito"
      ],
      "metadata": {
        "id": "rSkj01fmJqN8"
      },
      "execution_count": null,
      "outputs": []
    },
    {
      "cell_type": "code",
      "source": [
        "# imprima a base de dados para uma primeira avaliação dos dados"
      ],
      "metadata": {
        "id": "ZMOcFXJwKzqv"
      },
      "execution_count": 1,
      "outputs": []
    },
    {
      "cell_type": "markdown",
      "source": [
        "# 1 - Pré-Processamento dos dados\n",
        "\n",
        "a) DIVISÃO DA BASE DE DADOS\n",
        "\n",
        "Separe a base de dados dataset_risco_credito em:\n",
        " - variável x, com nome: X_risco_credito\n",
        " - classe y, com nome: y_risco_credito\n",
        "\n",
        "DICA: você pode utilizar .iloc para selecionar as colunas da matriz e .values para converter para o numpy array."
      ],
      "metadata": {
        "id": "T-Q73vWUM4Dv"
      }
    },
    {
      "cell_type": "markdown",
      "source": [
        "b) APLICAR LABEL ENCODER\n",
        "\n",
        "Perceba que seus dados possuem atributos categóricos (string). Porém, para aplicar esses dados em um algoritmo de aprendizado você precisa transformá-lo em atributo numérico. \n",
        "\n",
        "Como você pode resolver isso?\n",
        "\n",
        "DICA: Veja o que é e como aplicar o Label Enconder em: https://youtu.be/nLKEkBAbpQo "
      ],
      "metadata": {
        "id": "6krg1qp5lICG"
      }
    },
    {
      "cell_type": "code",
      "source": [
        "# Apresente o resultado do label enconder\n"
      ],
      "metadata": {
        "id": "Vp11dT0xzhby"
      },
      "execution_count": 2,
      "outputs": []
    },
    {
      "cell_type": "markdown",
      "source": [
        "c) SALVAR O ARQUIVO PRÉ-PROCESSADO"
      ],
      "metadata": {
        "id": "7292E0hp965t"
      }
    },
    {
      "cell_type": "code",
      "source": [
        "# como salvar o arquivo:\n",
        "import pickle\n",
        "with open('risco_credito.pkl', 'wb') as f:\n",
        "  pickle.dump([X_risco_credito, y_risco_credito], f)"
      ],
      "metadata": {
        "id": "vwAxug9UzljY"
      },
      "execution_count": null,
      "outputs": []
    },
    {
      "cell_type": "markdown",
      "source": [
        "# 2 - Algoritmo Naïve Bayes"
      ],
      "metadata": {
        "id": "KRRImr6L0S38"
      }
    },
    {
      "cell_type": "code",
      "source": [
        "# importar da biblioteca sklearn o pacote Nayve Bayes\n",
        "# utilizamos a distribuição estatística Gaussiana (classe GaussianNB) ou distribuição normal pois é mais usado para problemas genéricos\n",
        "from sklearn.naive_bayes import GaussianNB"
      ],
      "metadata": {
        "id": "BMMPnrNK0SZO"
      },
      "execution_count": null,
      "outputs": []
    },
    {
      "cell_type": "code",
      "source": [
        "# Criar o objeto Nayve Bayes\n",
        "naiveb_risco_credito = GaussianNB()"
      ],
      "metadata": {
        "id": "UEsASdJ41KiI"
      },
      "execution_count": null,
      "outputs": []
    },
    {
      "cell_type": "markdown",
      "source": [
        "a) TREINAR O ALGORITMO\n",
        "\n",
        "Para treinar o algoritmo, você deve gerar a tabela de probabilidades. Para isso, você pode utilizar **.fit** para gerar a tabela.\n",
        "\n",
        "DICA: O 1º parametro são os atributos/características (x) e o 2º parametro é a classe (y).\n",
        "\n",
        "OBS: Não se preocupe, o algoritmo faz a correção laplaciana automaticamente :) ."
      ],
      "metadata": {
        "id": "5X1JzYHVnp_L"
      }
    },
    {
      "cell_type": "markdown",
      "source": [
        "b) FAZER A PREVISÃO\n",
        "\n",
        "Utilize **.predict** para fazer a previsão realizada no exemplo em sala.\n",
        "\n",
        "i) história boa, dívida alta, garantia nenhuma, renda > 35\n",
        "\n",
        "ii) história ruim, dívida alta, garantia adequada, renda < 15\n",
        "\n",
        "Verifique nos slides se seu resultado está correto!"
      ],
      "metadata": {
        "id": "l7HaCQ-po2BI"
      }
    },
    {
      "cell_type": "code",
      "source": [
        "# utilize o atributo .classes_ para mostrar as classes utilizadas pelo algoritmo"
      ],
      "metadata": {
        "id": "zt1dlFdZ817K"
      },
      "execution_count": 3,
      "outputs": []
    },
    {
      "cell_type": "code",
      "source": [
        "# utilize .class_count_ para contar quantos registros tem em cada classe "
      ],
      "metadata": {
        "id": "_Yk0zzz284lv"
      },
      "execution_count": 4,
      "outputs": []
    }
  ]
}